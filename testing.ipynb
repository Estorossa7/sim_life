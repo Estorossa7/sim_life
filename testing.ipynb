{
 "cells": [
  {
   "cell_type": "code",
   "execution_count": 207,
   "metadata": {},
   "outputs": [],
   "source": [
    "import numpy as np\n",
    "from random import randint, random\n",
    "import time\n",
    "import math"
   ]
  },
  {
   "cell_type": "code",
   "execution_count": 208,
   "metadata": {},
   "outputs": [],
   "source": [
    "#   initialises genes\n",
    "\n",
    "def init_gene_str(a = 8):\n",
    "    r = pow(2,a)\n",
    "    num = randint(0,r-1)\n",
    "    gene = bin(num)[2:].zfill(8)\n",
    "    return gene\n",
    "\n",
    "def init_gene_int(a=8):\n",
    "    return randint(0,pow(2,a)-1)\n",
    "\n",
    "#   get gene from str to int\n",
    "\n",
    "def convert_str_int(s, base = 2):\n",
    "    return int(s,base)"
   ]
  },
  {
   "cell_type": "code",
   "execution_count": 222,
   "metadata": {},
   "outputs": [],
   "source": [
    "def mutat_int(a):\n",
    "    if (random()<0.3):\n",
    "        b = randint(0,8)        # defaultedd 8: unchangable\n",
    "        s1 = pow(2,(abs(b-8+1)))\n",
    "        s2 = pow(2,(abs(b-8)))-1\n",
    "        m = pow(2,8)-1\n",
    "        d = a - s1\n",
    "        m2 = d & s2\n",
    "        s3 = m - s2\n",
    "        m1 = a & s3\n",
    "        a = m1|m2\n",
    "    return a"
   ]
  },
  {
   "cell_type": "code",
   "execution_count": 225,
   "metadata": {},
   "outputs": [
    {
     "name": "stdout",
     "output_type": "stream",
     "text": [
      "time:  0.0702810287475586\n",
      "0.26558\n"
     ]
    }
   ],
   "source": [
    "l1 = []\n",
    "l2 = []\n",
    "start = time.time()\n",
    "for i in range(100000):\n",
    "    a1 = randint(0,255)\n",
    "    a2 = mutat_int(a1)\n",
    "    l1.append(a1)\n",
    "    l2.append(a2)\n",
    "stop = time.time()\n",
    "print('time: ', stop-start)\n",
    "count = 0\n",
    "for i in range(len(l1)):\n",
    "    if l1[i] != l2[i]:\n",
    "        count +=1\n",
    "print(count/len(l1))"
   ]
  },
  {
   "cell_type": "code",
   "execution_count": 211,
   "metadata": {},
   "outputs": [],
   "source": [
    "class DNA:\n",
    "    def __init__(self) -> None:\n",
    "        pass\n",
    "    \n",
    "    def get_color(self):\n",
    "        r = convert_str_int(self.c_r)\n",
    "        g = convert_str_int(self.c_g)\n",
    "        b = convert_str_int(self.c_b)\n",
    "        return (r,g,b)\n",
    "    \n",
    "    def mutation(a,b = 1):\n",
    "        for _ in range(b):\n",
    "            p = randint(1,len(a)-1)\n",
    "\n",
    "                \n",
    "        \n",
    "\n"
   ]
  },
  {
   "cell_type": "code",
   "execution_count": 212,
   "metadata": {},
   "outputs": [],
   "source": [
    "# parameters\n",
    "\n",
    "n = 1000\n",
    "target = (128, 0, 128)\n"
   ]
  },
  {
   "cell_type": "code",
   "execution_count": 213,
   "metadata": {},
   "outputs": [],
   "source": [
    "# init population\n",
    "\n",
    "p = [DNA() for _ in range(n)]\n"
   ]
  }
 ],
 "metadata": {
  "kernelspec": {
   "display_name": ".venv",
   "language": "python",
   "name": "python3"
  },
  "language_info": {
   "codemirror_mode": {
    "name": "ipython",
    "version": 3
   },
   "file_extension": ".py",
   "mimetype": "text/x-python",
   "name": "python",
   "nbconvert_exporter": "python",
   "pygments_lexer": "ipython3",
   "version": "3.12.2"
  }
 },
 "nbformat": 4,
 "nbformat_minor": 2
}
